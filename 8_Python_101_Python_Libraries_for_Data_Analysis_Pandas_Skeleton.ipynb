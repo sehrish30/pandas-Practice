{
  "nbformat": 4,
  "nbformat_minor": 0,
  "metadata": {
    "colab": {
      "name": "8. Python 101 - Python Libraries for Data Analysis - Pandas Skeleton.ipynb",
      "provenance": [],
      "collapsed_sections": [],
      "include_colab_link": true
    },
    "kernelspec": {
      "name": "python3",
      "display_name": "Python 3"
    }
  },
  "cells": [
    {
      "cell_type": "markdown",
      "metadata": {
        "id": "view-in-github",
        "colab_type": "text"
      },
      "source": [
        "<a href=\"https://colab.research.google.com/github/sehrish30/pandas-Practice/blob/main/8_Python_101_Python_Libraries_for_Data_Analysis_Pandas_Skeleton.ipynb\" target=\"_parent\"><img src=\"https://colab.research.google.com/assets/colab-badge.svg\" alt=\"Open In Colab\"/></a>"
      ]
    },
    {
      "cell_type": "markdown",
      "metadata": {
        "id": "1ivPDcc7p8lD"
      },
      "source": [
        "# 1. PANDAS BASICS"
      ]
    },
    {
      "cell_type": "code",
      "metadata": {
        "id": "4YdCraz8p_XF"
      },
      "source": [
        "# Pandas is a data manipulation and analysis tool that is built on Numpy.\n",
        "# Pandas uses a data structure known as DataFrame (think of it as Microsoft excel in Python). \n",
        "# DataFrames empower programmers to store and manipulate data in a tabular fashion (rows and columns).\n",
        "# Series Vs. DataFrame? Series is considered a single column of a DataFrame."
      ],
      "execution_count": null,
      "outputs": []
    },
    {
      "cell_type": "code",
      "metadata": {
        "id": "6H2808pkqKIR"
      },
      "source": [
        "import pandas as pd"
      ],
      "execution_count": 1,
      "outputs": []
    },
    {
      "cell_type": "code",
      "metadata": {
        "id": "jHc9-dmUqX48",
        "outputId": "9ebe13c1-7646-4fe0-9528-895856b27caf",
        "colab": {
          "base_uri": "https://localhost:8080/"
        }
      },
      "source": [
        "# Let's define two lists as shown below:\n",
        "my_list = ['APPL', 'AMZN', 'T']\n",
        "my_list"
      ],
      "execution_count": 2,
      "outputs": [
        {
          "output_type": "execute_result",
          "data": {
            "text/plain": [
              "['APPL', 'AMZN', 'T']"
            ]
          },
          "metadata": {
            "tags": []
          },
          "execution_count": 2
        }
      ]
    },
    {
      "cell_type": "code",
      "metadata": {
        "id": "MU5GA6-EsjJt",
        "outputId": "316022c6-43f6-45bd-ad1f-23bd100382b6",
        "colab": {
          "base_uri": "https://localhost:8080/"
        }
      },
      "source": [
        "label = ['stock#1', 'stock#2', 'stock#3']\r\n",
        "label"
      ],
      "execution_count": 3,
      "outputs": [
        {
          "output_type": "execute_result",
          "data": {
            "text/plain": [
              "['stock#1', 'stock#2', 'stock#3']"
            ]
          },
          "metadata": {
            "tags": []
          },
          "execution_count": 3
        }
      ]
    },
    {
      "cell_type": "code",
      "metadata": {
        "id": "flWWE-6YqX7Z",
        "outputId": "a46436e5-c358-4b1a-8230-981bd17ee759",
        "colab": {
          "base_uri": "https://localhost:8080/"
        }
      },
      "source": [
        "type(label)"
      ],
      "execution_count": 4,
      "outputs": [
        {
          "output_type": "execute_result",
          "data": {
            "text/plain": [
              "list"
            ]
          },
          "metadata": {
            "tags": []
          },
          "execution_count": 4
        }
      ]
    },
    {
      "cell_type": "code",
      "metadata": {
        "id": "0mf-BKxQsmKO",
        "outputId": "9523ee53-00c9-4218-9ec6-e0368da7a0db",
        "colab": {
          "base_uri": "https://localhost:8080/"
        }
      },
      "source": [
        "type(my_list)"
      ],
      "execution_count": 5,
      "outputs": [
        {
          "output_type": "execute_result",
          "data": {
            "text/plain": [
              "list"
            ]
          },
          "metadata": {
            "tags": []
          },
          "execution_count": 5
        }
      ]
    },
    {
      "cell_type": "code",
      "metadata": {
        "id": "U4Fq06XwqX9v"
      },
      "source": [
        "# Let's create a one dimensional Pandas \"series\" \n",
        "# Note that series is formed of data and associated labels \n",
        "x_series  = pd.Series(index = label, data = my_list)\n"
      ],
      "execution_count": 10,
      "outputs": []
    },
    {
      "cell_type": "code",
      "metadata": {
        "id": "YhPzprisqX_8",
        "outputId": "9d0d81a6-dfdf-4440-e136-c2416140c2f2",
        "colab": {
          "base_uri": "https://localhost:8080/"
        }
      },
      "source": [
        "# Let's view the series\n",
        "x_series"
      ],
      "execution_count": 11,
      "outputs": [
        {
          "output_type": "execute_result",
          "data": {
            "text/plain": [
              "stock#1    APPL\n",
              "stock#2    AMZN\n",
              "stock#3       T\n",
              "dtype: object"
            ]
          },
          "metadata": {
            "tags": []
          },
          "execution_count": 11
        }
      ]
    },
    {
      "cell_type": "code",
      "metadata": {
        "id": "4LPwMO8fsvi1",
        "outputId": "59111be6-0097-4166-c5a5-2185252f6c98",
        "colab": {
          "base_uri": "https://localhost:8080/"
        }
      },
      "source": [
        "# Let's obtain the datatype\n",
        "type(x_series)"
      ],
      "execution_count": 12,
      "outputs": [
        {
          "output_type": "execute_result",
          "data": {
            "text/plain": [
              "pandas.core.series.Series"
            ]
          },
          "metadata": {
            "tags": []
          },
          "execution_count": 12
        }
      ]
    },
    {
      "cell_type": "code",
      "metadata": {
        "id": "YnV7pFX0q3_C",
        "outputId": "bb9518bd-1a05-4118-98ca-bc74b9e4455b",
        "colab": {
          "base_uri": "https://localhost:8080/",
          "height": 166
        }
      },
      "source": [
        "# Let's define a two-dimensional Pandas DataFrame\n",
        "# Note that you can create a pandas dataframe from a python dictionary\n",
        "bank_client_df = pd.DataFrame({'Bank client ID': [111, 222, 333, 444],\n",
        "                               'Bank Client Name': ['Channel', 'Steve', 'Mitch', 'Ryan'],\n",
        "                               'Net Worth [$]': [3500, 29000, 10000, 2000],\n",
        "                               'Years with bank': [3, 4, 9, 5]\n",
        "                               })\n",
        "bank_client_df"
      ],
      "execution_count": 14,
      "outputs": [
        {
          "output_type": "execute_result",
          "data": {
            "text/html": [
              "<div>\n",
              "<style scoped>\n",
              "    .dataframe tbody tr th:only-of-type {\n",
              "        vertical-align: middle;\n",
              "    }\n",
              "\n",
              "    .dataframe tbody tr th {\n",
              "        vertical-align: top;\n",
              "    }\n",
              "\n",
              "    .dataframe thead th {\n",
              "        text-align: right;\n",
              "    }\n",
              "</style>\n",
              "<table border=\"1\" class=\"dataframe\">\n",
              "  <thead>\n",
              "    <tr style=\"text-align: right;\">\n",
              "      <th></th>\n",
              "      <th>Bank client ID</th>\n",
              "      <th>Bank Client Name</th>\n",
              "      <th>Net Worth [$]</th>\n",
              "      <th>Years with bank</th>\n",
              "    </tr>\n",
              "  </thead>\n",
              "  <tbody>\n",
              "    <tr>\n",
              "      <th>0</th>\n",
              "      <td>111</td>\n",
              "      <td>Channel</td>\n",
              "      <td>3500</td>\n",
              "      <td>3</td>\n",
              "    </tr>\n",
              "    <tr>\n",
              "      <th>1</th>\n",
              "      <td>222</td>\n",
              "      <td>Steve</td>\n",
              "      <td>29000</td>\n",
              "      <td>4</td>\n",
              "    </tr>\n",
              "    <tr>\n",
              "      <th>2</th>\n",
              "      <td>333</td>\n",
              "      <td>Mitch</td>\n",
              "      <td>10000</td>\n",
              "      <td>9</td>\n",
              "    </tr>\n",
              "    <tr>\n",
              "      <th>3</th>\n",
              "      <td>444</td>\n",
              "      <td>Ryan</td>\n",
              "      <td>2000</td>\n",
              "      <td>5</td>\n",
              "    </tr>\n",
              "  </tbody>\n",
              "</table>\n",
              "</div>"
            ],
            "text/plain": [
              "   Bank client ID Bank Client Name  Net Worth [$]  Years with bank\n",
              "0             111          Channel           3500                3\n",
              "1             222            Steve          29000                4\n",
              "2             333            Mitch          10000                9\n",
              "3             444             Ryan           2000                5"
            ]
          },
          "metadata": {
            "tags": []
          },
          "execution_count": 14
        }
      ]
    },
    {
      "cell_type": "code",
      "metadata": {
        "id": "9LXSKDSTq4Fb",
        "outputId": "d03f3ce4-3fc9-40c0-e5f9-a47ba06f4343",
        "colab": {
          "base_uri": "https://localhost:8080/"
        }
      },
      "source": [
        "# Let's obtain the data type \n",
        "type(bank_client_df)"
      ],
      "execution_count": 15,
      "outputs": [
        {
          "output_type": "execute_result",
          "data": {
            "text/plain": [
              "pandas.core.frame.DataFrame"
            ]
          },
          "metadata": {
            "tags": []
          },
          "execution_count": 15
        }
      ]
    },
    {
      "cell_type": "code",
      "metadata": {
        "id": "h93nb1trtwhu",
        "outputId": "a20e69e7-2e11-4dbf-eb75-3c64db721206",
        "colab": {
          "base_uri": "https://localhost:8080/",
          "height": 107
        }
      },
      "source": [
        "# you can only view the first couple of rows using .head()\n",
        "bank_client_df.head(2)"
      ],
      "execution_count": 16,
      "outputs": [
        {
          "output_type": "execute_result",
          "data": {
            "text/html": [
              "<div>\n",
              "<style scoped>\n",
              "    .dataframe tbody tr th:only-of-type {\n",
              "        vertical-align: middle;\n",
              "    }\n",
              "\n",
              "    .dataframe tbody tr th {\n",
              "        vertical-align: top;\n",
              "    }\n",
              "\n",
              "    .dataframe thead th {\n",
              "        text-align: right;\n",
              "    }\n",
              "</style>\n",
              "<table border=\"1\" class=\"dataframe\">\n",
              "  <thead>\n",
              "    <tr style=\"text-align: right;\">\n",
              "      <th></th>\n",
              "      <th>Bank client ID</th>\n",
              "      <th>Bank Client Name</th>\n",
              "      <th>Net Worth [$]</th>\n",
              "      <th>Years with bank</th>\n",
              "    </tr>\n",
              "  </thead>\n",
              "  <tbody>\n",
              "    <tr>\n",
              "      <th>0</th>\n",
              "      <td>111</td>\n",
              "      <td>Channel</td>\n",
              "      <td>3500</td>\n",
              "      <td>3</td>\n",
              "    </tr>\n",
              "    <tr>\n",
              "      <th>1</th>\n",
              "      <td>222</td>\n",
              "      <td>Steve</td>\n",
              "      <td>29000</td>\n",
              "      <td>4</td>\n",
              "    </tr>\n",
              "  </tbody>\n",
              "</table>\n",
              "</div>"
            ],
            "text/plain": [
              "   Bank client ID Bank Client Name  Net Worth [$]  Years with bank\n",
              "0             111          Channel           3500                3\n",
              "1             222            Steve          29000                4"
            ]
          },
          "metadata": {
            "tags": []
          },
          "execution_count": 16
        }
      ]
    },
    {
      "cell_type": "code",
      "metadata": {
        "id": "7kkAAG0Ft2Q1",
        "outputId": "f5d12901-fa93-4637-f568-11a939ce15bf",
        "colab": {
          "base_uri": "https://localhost:8080/",
          "height": 77
        }
      },
      "source": [
        "# you can only view the last couple of rows using .tail()\n",
        "bank_client_df.tail(1)"
      ],
      "execution_count": 17,
      "outputs": [
        {
          "output_type": "execute_result",
          "data": {
            "text/html": [
              "<div>\n",
              "<style scoped>\n",
              "    .dataframe tbody tr th:only-of-type {\n",
              "        vertical-align: middle;\n",
              "    }\n",
              "\n",
              "    .dataframe tbody tr th {\n",
              "        vertical-align: top;\n",
              "    }\n",
              "\n",
              "    .dataframe thead th {\n",
              "        text-align: right;\n",
              "    }\n",
              "</style>\n",
              "<table border=\"1\" class=\"dataframe\">\n",
              "  <thead>\n",
              "    <tr style=\"text-align: right;\">\n",
              "      <th></th>\n",
              "      <th>Bank client ID</th>\n",
              "      <th>Bank Client Name</th>\n",
              "      <th>Net Worth [$]</th>\n",
              "      <th>Years with bank</th>\n",
              "    </tr>\n",
              "  </thead>\n",
              "  <tbody>\n",
              "    <tr>\n",
              "      <th>3</th>\n",
              "      <td>444</td>\n",
              "      <td>Ryan</td>\n",
              "      <td>2000</td>\n",
              "      <td>5</td>\n",
              "    </tr>\n",
              "  </tbody>\n",
              "</table>\n",
              "</div>"
            ],
            "text/plain": [
              "   Bank client ID Bank Client Name  Net Worth [$]  Years with bank\n",
              "3             444             Ryan           2000                5"
            ]
          },
          "metadata": {
            "tags": []
          },
          "execution_count": 17
        }
      ]
    },
    {
      "cell_type": "markdown",
      "metadata": {
        "id": "Ro-OAYbsy_EA"
      },
      "source": [
        "**MINI CHALLENGE #1:**\n",
        "- **A porfolio contains a collection of securities such as stocks, bonds and ETFs. Define a dataframe named 'portfolio_df' that holds 3 different stock ticker symbols, number of shares, and price per share (feel free to choose any stocks)**\n",
        "- **Calculate the total value of the porfolio including all stocks**"
      ]
    },
    {
      "cell_type": "code",
      "metadata": {
        "id": "zgAFS4N-1cDg",
        "outputId": "f0e724fa-daae-4c9d-af7b-8b4e1f7ae3fb",
        "colab": {
          "base_uri": "https://localhost:8080/",
          "height": 137
        }
      },
      "source": [
        "portfolio_df = pd.DataFrame({\r\n",
        "    'stock ticker symbol': ['AAPL', 'AMZN', 'T'],\r\n",
        "    'Number of shares': [3, 4, 9],\r\n",
        "    'price per share': [3500, 200, 40]\r\n",
        "})\r\n",
        "portfolio_df"
      ],
      "execution_count": 21,
      "outputs": [
        {
          "output_type": "execute_result",
          "data": {
            "text/html": [
              "<div>\n",
              "<style scoped>\n",
              "    .dataframe tbody tr th:only-of-type {\n",
              "        vertical-align: middle;\n",
              "    }\n",
              "\n",
              "    .dataframe tbody tr th {\n",
              "        vertical-align: top;\n",
              "    }\n",
              "\n",
              "    .dataframe thead th {\n",
              "        text-align: right;\n",
              "    }\n",
              "</style>\n",
              "<table border=\"1\" class=\"dataframe\">\n",
              "  <thead>\n",
              "    <tr style=\"text-align: right;\">\n",
              "      <th></th>\n",
              "      <th>stock ticker symbol</th>\n",
              "      <th>Number of shares</th>\n",
              "      <th>price per share</th>\n",
              "    </tr>\n",
              "  </thead>\n",
              "  <tbody>\n",
              "    <tr>\n",
              "      <th>0</th>\n",
              "      <td>AAPL</td>\n",
              "      <td>3</td>\n",
              "      <td>3500</td>\n",
              "    </tr>\n",
              "    <tr>\n",
              "      <th>1</th>\n",
              "      <td>AMZN</td>\n",
              "      <td>4</td>\n",
              "      <td>200</td>\n",
              "    </tr>\n",
              "    <tr>\n",
              "      <th>2</th>\n",
              "      <td>T</td>\n",
              "      <td>9</td>\n",
              "      <td>40</td>\n",
              "    </tr>\n",
              "  </tbody>\n",
              "</table>\n",
              "</div>"
            ],
            "text/plain": [
              "  stock ticker symbol  Number of shares  price per share\n",
              "0                AAPL                 3             3500\n",
              "1                AMZN                 4              200\n",
              "2                   T                 9               40"
            ]
          },
          "metadata": {
            "tags": []
          },
          "execution_count": 21
        }
      ]
    },
    {
      "cell_type": "code",
      "metadata": {
        "id": "idvE_4vAH1lq",
        "outputId": "275e4c8f-2640-4e73-c20e-196ccffc24d6",
        "colab": {
          "base_uri": "https://localhost:8080/"
        }
      },
      "source": [
        "stocks_dollar_value = portfolio_df['Number of shares'] * portfolio_df['price per share']\r\n",
        "print(stocks_dollar_value) \r\n",
        "print(f'Total portfolio value {stocks_dollar_value.sum()}')"
      ],
      "execution_count": 24,
      "outputs": [
        {
          "output_type": "stream",
          "text": [
            "0    10500\n",
            "1      800\n",
            "2      360\n",
            "dtype: int64\n",
            "Total portfolio value 11660\n"
          ],
          "name": "stdout"
        }
      ]
    },
    {
      "cell_type": "markdown",
      "metadata": {
        "id": "d06IyHT9uffC"
      },
      "source": [
        "# 2. PANDAS WITH CSV AND HTML DATA"
      ]
    },
    {
      "cell_type": "code",
      "metadata": {
        "id": "6C6tjxUCwV8B"
      },
      "source": [
        "# In order to access data on Google Drive, you need to mount the drive to access it's content\n"
      ],
      "execution_count": null,
      "outputs": []
    },
    {
      "cell_type": "code",
      "metadata": {
        "id": "lHB4RP5luJwF"
      },
      "source": [
        "# Pandas is used to read a csv file and store data in a DataFrame\n"
      ],
      "execution_count": null,
      "outputs": []
    },
    {
      "cell_type": "code",
      "metadata": {
        "id": "OqdhTgIfuoTy"
      },
      "source": [
        ""
      ],
      "execution_count": null,
      "outputs": []
    },
    {
      "cell_type": "code",
      "metadata": {
        "id": "lhwAwJ7BuoXn"
      },
      "source": [
        "# write to a csv file without an index\n"
      ],
      "execution_count": null,
      "outputs": []
    },
    {
      "cell_type": "code",
      "metadata": {
        "id": "Xbhgb5EYxR3o"
      },
      "source": [
        "# write to a csv file with an index\n"
      ],
      "execution_count": null,
      "outputs": []
    },
    {
      "cell_type": "code",
      "metadata": {
        "id": "tAJRGqF-uobr"
      },
      "source": [
        "# Read tabular data using read_html\n"
      ],
      "execution_count": null,
      "outputs": []
    },
    {
      "cell_type": "code",
      "metadata": {
        "id": "Al8bvyYEuods"
      },
      "source": [
        ""
      ],
      "execution_count": null,
      "outputs": []
    },
    {
      "cell_type": "code",
      "metadata": {
        "id": "K-abffkEuoZs"
      },
      "source": [
        ""
      ],
      "execution_count": null,
      "outputs": []
    },
    {
      "cell_type": "markdown",
      "metadata": {
        "id": "jRtr2lpr2NHr"
      },
      "source": [
        "**MINI CHALLENGE #2:**\n",
        "- **Write a code that uses Pandas to read tabular US retirement data**\n",
        "- **You can use data from here: https://www.ssa.gov/oact/progdata/nra.html** "
      ]
    },
    {
      "cell_type": "code",
      "metadata": {
        "id": "qF-eEa5h27rh"
      },
      "source": [
        ""
      ],
      "execution_count": null,
      "outputs": []
    },
    {
      "cell_type": "markdown",
      "metadata": {
        "id": "usUtfW0WuuBb"
      },
      "source": [
        "# 3. PANDAS OPERATIONS"
      ]
    },
    {
      "cell_type": "code",
      "metadata": {
        "id": "wI7pvcR01NbV"
      },
      "source": [
        "# Let's define a dataframe as follows:\n"
      ],
      "execution_count": null,
      "outputs": []
    },
    {
      "cell_type": "code",
      "metadata": {
        "id": "kw_260rpuxzc"
      },
      "source": [
        "# Pick certain rows that satisfy a certain criteria \n"
      ],
      "execution_count": null,
      "outputs": []
    },
    {
      "cell_type": "code",
      "metadata": {
        "id": "uudZyadKux12"
      },
      "source": [
        "# Delete a column from a DataFrame\n"
      ],
      "execution_count": null,
      "outputs": []
    },
    {
      "cell_type": "markdown",
      "metadata": {
        "id": "M5_PHunK2_UZ"
      },
      "source": [
        "**MINI CHALLENGE #3:**\n",
        "- **Using \"bank_client_df\" DataFrame, leverage pandas operations to only select high networth individuals with minimum $5000** \n",
        "- **What is the combined networth for all customers with 5000+ networth?**"
      ]
    },
    {
      "cell_type": "code",
      "metadata": {
        "id": "wLyH7CnC4Vjj"
      },
      "source": [
        ""
      ],
      "execution_count": null,
      "outputs": []
    },
    {
      "cell_type": "code",
      "metadata": {
        "id": "rr_nhgq-VGfC"
      },
      "source": [
        ""
      ],
      "execution_count": null,
      "outputs": []
    },
    {
      "cell_type": "markdown",
      "metadata": {
        "id": "3-5RHcLDu1wL"
      },
      "source": [
        "# 4. PANDAS WITH FUNCTIONS"
      ]
    },
    {
      "cell_type": "code",
      "metadata": {
        "id": "w6Vs9IxC14kV"
      },
      "source": [
        "# Let's define a dataframe as follows:\n"
      ],
      "execution_count": null,
      "outputs": []
    },
    {
      "cell_type": "code",
      "metadata": {
        "id": "X8HedZiGux37"
      },
      "source": [
        "# Define a function that increases all clients networth (stocks) by a fixed value of 10% (for simplicity sake) \n"
      ],
      "execution_count": null,
      "outputs": []
    },
    {
      "cell_type": "code",
      "metadata": {
        "id": "H15eem3Qu67H"
      },
      "source": [
        "# You can apply a function to the DataFrame \n"
      ],
      "execution_count": null,
      "outputs": []
    },
    {
      "cell_type": "code",
      "metadata": {
        "id": "WsObpnkou69Q"
      },
      "source": [
        ""
      ],
      "execution_count": null,
      "outputs": []
    },
    {
      "cell_type": "code",
      "metadata": {
        "id": "E52xRMulu6_I"
      },
      "source": [
        ""
      ],
      "execution_count": null,
      "outputs": []
    },
    {
      "cell_type": "markdown",
      "metadata": {
        "id": "VaXV-VYg4xG0"
      },
      "source": [
        "**MINI CHALLENGE #4:**\n",
        "- **Define a function that doubles stock prices and adds $100**\n",
        "- **Apply the function to the DataFrame**\n",
        "- **Calculate the updated total networth of all clients combined**"
      ]
    },
    {
      "cell_type": "code",
      "metadata": {
        "id": "xqWCYc0n6V-d"
      },
      "source": [
        ""
      ],
      "execution_count": null,
      "outputs": []
    },
    {
      "cell_type": "code",
      "metadata": {
        "id": "dW5exU8voFud"
      },
      "source": [
        ""
      ],
      "execution_count": null,
      "outputs": []
    },
    {
      "cell_type": "code",
      "metadata": {
        "id": "F0ctpy1eoFsd"
      },
      "source": [
        ""
      ],
      "execution_count": null,
      "outputs": []
    },
    {
      "cell_type": "code",
      "metadata": {
        "id": "CEBxdOd9oFqA"
      },
      "source": [
        ""
      ],
      "execution_count": null,
      "outputs": []
    },
    {
      "cell_type": "markdown",
      "metadata": {
        "id": "LKDuJ94RvB85"
      },
      "source": [
        "# 5. SORTING AND ORDERING"
      ]
    },
    {
      "cell_type": "code",
      "metadata": {
        "id": "f-aRTmn9u7DA"
      },
      "source": [
        "# Let's define a dataframe as follows:\n"
      ],
      "execution_count": null,
      "outputs": []
    },
    {
      "cell_type": "code",
      "metadata": {
        "id": "DaglhPNevFYC"
      },
      "source": [
        "# You can sort the values in the dataframe according to number of years with bank\n"
      ],
      "execution_count": null,
      "outputs": []
    },
    {
      "cell_type": "code",
      "metadata": {
        "id": "AjzLtDlevFaW"
      },
      "source": [
        "# Note that nothing changed in memory! you have to make sure that inplace is set to True\n"
      ],
      "execution_count": null,
      "outputs": []
    },
    {
      "cell_type": "code",
      "metadata": {
        "id": "Pgt25eXmvFce"
      },
      "source": [
        "# Set inplace = True to ensure that change has taken place in memory \n"
      ],
      "execution_count": null,
      "outputs": []
    },
    {
      "cell_type": "code",
      "metadata": {
        "id": "jEw2Gw_hu7Fo"
      },
      "source": [
        "# Note that now the change (ordering) took place \n"
      ],
      "execution_count": null,
      "outputs": []
    },
    {
      "cell_type": "markdown",
      "metadata": {
        "id": "7bV_Yaq46ZTg"
      },
      "source": [
        "**MINI CHALLENGE #5:**\n",
        "- **Sort customers by networth instead of years with bank. Make sure to update values in-memory.**"
      ]
    },
    {
      "cell_type": "code",
      "metadata": {
        "id": "BYCD1yGi6q2M"
      },
      "source": [
        ""
      ],
      "execution_count": null,
      "outputs": []
    },
    {
      "cell_type": "markdown",
      "metadata": {
        "id": "XAix4DVfvKGe"
      },
      "source": [
        "# 6. CONCATENATING AND MERGING WITH PANDAS"
      ]
    },
    {
      "cell_type": "markdown",
      "metadata": {
        "id": "eMBioTTMvWXI"
      },
      "source": [
        "Check this out: https://pandas.pydata.org/pandas-docs/stable/user_guide/merging.html"
      ]
    },
    {
      "cell_type": "code",
      "metadata": {
        "id": "b1zfk3Euu7Bx"
      },
      "source": [
        ""
      ],
      "execution_count": null,
      "outputs": []
    },
    {
      "cell_type": "code",
      "metadata": {
        "id": "MfimJ_PPvQIA"
      },
      "source": [
        ""
      ],
      "execution_count": null,
      "outputs": []
    },
    {
      "cell_type": "code",
      "metadata": {
        "id": "dKyIG2MjvQKN"
      },
      "source": [
        ""
      ],
      "execution_count": null,
      "outputs": []
    },
    {
      "cell_type": "code",
      "metadata": {
        "id": "wNuUFBsqvQMU"
      },
      "source": [
        ""
      ],
      "execution_count": null,
      "outputs": []
    },
    {
      "cell_type": "code",
      "metadata": {
        "id": "BTmgXXvzvcKq"
      },
      "source": [
        ""
      ],
      "execution_count": null,
      "outputs": []
    },
    {
      "cell_type": "code",
      "metadata": {
        "id": "wI10aNahvcM1"
      },
      "source": [
        ""
      ],
      "execution_count": null,
      "outputs": []
    },
    {
      "cell_type": "code",
      "metadata": {
        "id": "ljXyrXSjvcPG"
      },
      "source": [
        ""
      ],
      "execution_count": null,
      "outputs": []
    },
    {
      "cell_type": "code",
      "metadata": {
        "id": "4_KBD8YGvcRV"
      },
      "source": [
        "# Creating a dataframe from a dictionary\n",
        "# Let's define a dataframe with a list of bank clients with IDs = 1, 2, 3, 4, 5 \n",
        "\n"
      ],
      "execution_count": null,
      "outputs": []
    },
    {
      "cell_type": "code",
      "metadata": {
        "id": "bVVjCOCAwubr"
      },
      "source": [
        ""
      ],
      "execution_count": null,
      "outputs": []
    },
    {
      "cell_type": "code",
      "metadata": {
        "id": "wq_TBWkvvgNE"
      },
      "source": [
        "# Let's define another dataframe for a separate list of clients (IDs = 6, 7, 8, 9, 10)\n"
      ],
      "execution_count": null,
      "outputs": []
    },
    {
      "cell_type": "code",
      "metadata": {
        "id": "zRgyJPjivgPZ"
      },
      "source": [
        "# Let's assume we obtained additional information (Annual Salary) about our bank customers \n",
        "# Note that data obtained is for all clients with IDs 1 to 10\n",
        " "
      ],
      "execution_count": null,
      "outputs": []
    },
    {
      "cell_type": "code",
      "metadata": {
        "id": "i2X65wc0vidf"
      },
      "source": [
        "# Let's concatenate both dataframes #1 and #2\n",
        "# Note that we now have client IDs from 1 to 10\n"
      ],
      "execution_count": null,
      "outputs": []
    },
    {
      "cell_type": "code",
      "metadata": {
        "id": "9bgjH8mkvQOY"
      },
      "source": [
        "# Let's merge all data on 'Bank Client ID'\n"
      ],
      "execution_count": null,
      "outputs": []
    },
    {
      "cell_type": "code",
      "metadata": {
        "id": "5g5tCggp9gce"
      },
      "source": [
        ""
      ],
      "execution_count": null,
      "outputs": []
    },
    {
      "cell_type": "markdown",
      "metadata": {
        "id": "Wm5PRpCM-2pK"
      },
      "source": [
        "**MINI CHALLENGE #6:**\n",
        "- **Let's assume that you became a new client to the bank**\n",
        "- **Define a new DataFrame that contains your information such as client ID (choose 11), first name, last name, and annual salary.**\n",
        "- **Add this new dataframe to the original dataframe \"bank_df_all\".** "
      ]
    },
    {
      "cell_type": "code",
      "metadata": {
        "id": "WpoFZeCt_g0c"
      },
      "source": [
        ""
      ],
      "execution_count": null,
      "outputs": []
    },
    {
      "cell_type": "code",
      "metadata": {
        "id": "WcmoZpFt0-fW"
      },
      "source": [
        ""
      ],
      "execution_count": null,
      "outputs": []
    },
    {
      "cell_type": "code",
      "metadata": {
        "id": "XQiP3NFy1Jbi"
      },
      "source": [
        ""
      ],
      "execution_count": null,
      "outputs": []
    },
    {
      "cell_type": "markdown",
      "metadata": {
        "id": "i1gJS3K7vlxd"
      },
      "source": [
        "# EXCELLENT JOB!"
      ]
    },
    {
      "cell_type": "markdown",
      "metadata": {
        "id": "MF2SdJZ_vn4z"
      },
      "source": [
        "# MINI CHALLENGE SOLUTIONS"
      ]
    },
    {
      "cell_type": "markdown",
      "metadata": {
        "id": "Y6fUsXPv1Wom"
      },
      "source": [
        "**MINI CHALLENGE #1 SOLUTION:**\n",
        "- **A porfolio contains a collection of securities such as stocks, bonds and ETFs. Define a dataframe named 'portfolio_df' that holds 3 different stock ticker symbols, number of shares, and price per share (feel free to choose any stocks)**\n",
        "- **Calculate the total value of the porfolio including all stocks**"
      ]
    },
    {
      "cell_type": "code",
      "metadata": {
        "id": "8pftwyY81Wos"
      },
      "source": [
        "portfolio_df = pd.DataFrame({'stock ticker symbols':['AAPL', 'AMZN', 'T'],\n",
        "                             'price per share [$]':[3500, 200, 40], \n",
        "                             'Number of stocks':[3, 4, 9]})\n",
        "portfolio_df"
      ],
      "execution_count": null,
      "outputs": []
    },
    {
      "cell_type": "code",
      "metadata": {
        "id": "zTgj_BoE1Woy"
      },
      "source": [
        "stocks_dollar_value = portfolio_df['price per share [$]'] * portfolio_df['Number of stocks']\n",
        "print(stocks_dollar_value)\n",
        "print('Total portfolio value = {}'.format(stocks_dollar_value.sum()))"
      ],
      "execution_count": null,
      "outputs": []
    },
    {
      "cell_type": "markdown",
      "metadata": {
        "id": "5YQ1rFW723fN"
      },
      "source": [
        "**MINI CHALLENGE #2 SOLUTION:**\n",
        "- **Write a code that uses Pandas to read tabular US retirement data**\n",
        "- **You can use data from here: https://www.ssa.gov/oact/progdata/nra.html** "
      ]
    },
    {
      "cell_type": "code",
      "metadata": {
        "id": "mmWTN7yD23fQ"
      },
      "source": [
        "# Read tabular data using read_html\n",
        "retirement_age_df = pd.read_html('https://www.ssa.gov/oact/progdata/nra.html')\n",
        "retirement_age_df"
      ],
      "execution_count": null,
      "outputs": []
    },
    {
      "cell_type": "markdown",
      "metadata": {
        "id": "qN1gAggk4QvE"
      },
      "source": [
        "**MINI CHALLENGE #3 SOLUTION:**\n",
        "- **Using \"bank_client_df\" DataFrame, leverage pandas operations to only select high networth individuals with minimum $5000** \n",
        "- **What is the combined networth for all customers with 5000+ networth?**"
      ]
    },
    {
      "cell_type": "code",
      "metadata": {
        "id": "CSN32b-o4QvG"
      },
      "source": [
        "df_high_networth = bank_client_df[ (bank_client_df['Net worth [$]'] >= 5000) ]\n",
        "df_high_networth"
      ],
      "execution_count": null,
      "outputs": []
    },
    {
      "cell_type": "code",
      "metadata": {
        "id": "8x2FQdmp4QvN"
      },
      "source": [
        "df_high_networth['Net worth [$]'].sum()"
      ],
      "execution_count": null,
      "outputs": []
    },
    {
      "cell_type": "code",
      "metadata": {
        "id": "zubS-MOi6O-y"
      },
      "source": [
        ""
      ],
      "execution_count": null,
      "outputs": []
    },
    {
      "cell_type": "markdown",
      "metadata": {
        "id": "T3xpj-hW6PYi"
      },
      "source": [
        "**MINI CHALLENGE #4 SOLUTION:**\n",
        "- **Define a function that doubles stock prices and adds $100**\n",
        "- **Apply the function to the DataFrame**\n",
        "- **Calculate the updated total networth of all clients combined**"
      ]
    },
    {
      "cell_type": "code",
      "metadata": {
        "id": "S8O56b_W6PYk"
      },
      "source": [
        "def networth_update(balance):\n",
        "    return balance * 2 + 100 # assume that stock prices increased by 10%"
      ],
      "execution_count": null,
      "outputs": []
    },
    {
      "cell_type": "code",
      "metadata": {
        "id": "r2crG2yx6PYt"
      },
      "source": [
        "# You can apply a function to the DataFrame \n",
        "results = bank_client_df['Net worth [$]'].apply(networth_update)\n",
        "results"
      ],
      "execution_count": null,
      "outputs": []
    },
    {
      "cell_type": "code",
      "metadata": {
        "id": "SAzpFD5Y6PY1"
      },
      "source": [
        "results.sum()"
      ],
      "execution_count": null,
      "outputs": []
    },
    {
      "cell_type": "markdown",
      "metadata": {
        "id": "Trx36mNb62JX"
      },
      "source": [
        "**MINI CHALLENGE #5 SOLUTION:**\n",
        "- **Sort customers by networth instead of years with bank. Make sure to update values in-memory.**"
      ]
    },
    {
      "cell_type": "code",
      "metadata": {
        "id": "b4nvA-VQ62Ja"
      },
      "source": [
        "# You can sort the values in the dataframe according to number of years with bank\n",
        "bank_client_df.sort_values(by = 'Net worth [$]', inplace = True) \n",
        "bank_client_df"
      ],
      "execution_count": null,
      "outputs": []
    },
    {
      "cell_type": "markdown",
      "metadata": {
        "id": "i83R6Kvb_cGZ"
      },
      "source": [
        "**MINI CHALLENGE #6 SOLUTION:**\n",
        "- **Let's assume that you became a new client to the bank**\n",
        "- **Define a new DataFrame that contains your information such as client ID (choose 11), first name, last name, and annual salary.**\n",
        "- **Add this new dataframe to the original dataframe \"bank_df_all\".** "
      ]
    },
    {
      "cell_type": "code",
      "metadata": {
        "id": "YmxlF6op_cGc"
      },
      "source": [
        "new_client = {\n",
        "        'Bank Client ID': ['11'],\n",
        "        'First Name': ['Ry'], \n",
        "        'Last Name': ['Aly'],\n",
        "        'Annual Salary [$/year]' : [1000]}\n",
        "new_client_df = pd.DataFrame(new_client, columns = ['Bank Client ID', 'First Name', 'Last Name', 'Annual Salary [$/year]'])\n",
        "new_client_df"
      ],
      "execution_count": null,
      "outputs": []
    },
    {
      "cell_type": "code",
      "metadata": {
        "id": "dhOKOcVR_cGl"
      },
      "source": [
        "new_df = pd.concat([bank_df_all, new_client_df], axis = 0)\n",
        "new_df"
      ],
      "execution_count": null,
      "outputs": []
    }
  ]
}